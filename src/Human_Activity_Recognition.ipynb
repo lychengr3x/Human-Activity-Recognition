{
 "cells": [
  {
   "cell_type": "markdown",
   "metadata": {},
   "source": [
    "# Human Activity Recognition"
   ]
  },
  {
   "cell_type": "code",
   "execution_count": 1,
   "metadata": {},
   "outputs": [],
   "source": [
    "from utils import DataManager, RandomForest, SVM, grid_search"
   ]
  },
  {
   "cell_type": "markdown",
   "metadata": {},
   "source": [
    "## Data Exploration"
   ]
  },
  {
   "cell_type": "code",
   "execution_count": 2,
   "metadata": {},
   "outputs": [],
   "source": [
    "dm = DataManager()\n",
    "xtrain, ytrain, xvalid, yvalid = dm.get_train_and_valid()"
   ]
  },
  {
   "cell_type": "markdown",
   "metadata": {},
   "source": [
    "## Grid Search \n",
    "Find optimal hyper-parameters"
   ]
  },
  {
   "cell_type": "code",
   "execution_count": 3,
   "metadata": {},
   "outputs": [],
   "source": [
    "# grid_search(xtrain, ytrain, 'svm')"
   ]
  },
  {
   "cell_type": "code",
   "execution_count": 4,
   "metadata": {},
   "outputs": [],
   "source": [
    "# grid_search(xtrain, ytrain, 'randomforest')"
   ]
  },
  {
   "cell_type": "markdown",
   "metadata": {},
   "source": [
    "## SVM"
   ]
  },
  {
   "cell_type": "code",
   "execution_count": 5,
   "metadata": {},
   "outputs": [
    {
     "name": "stdout",
     "output_type": "stream",
     "text": [
      "accuracy:\n",
      "0.9327354260089686\n",
      "\n",
      "prediction:\n",
      "['B', 'A', 'B', 'A', 'A', 'E', 'D', 'B', 'A', 'A', 'B', 'C', 'B', 'A', 'E', 'E', 'A', 'B', 'B', 'B']\n"
     ]
    }
   ],
   "source": [
    "svm = SVM(dm)\n",
    "svm.train()\n",
    "print(f'accuracy:\\n{svm.accuracy(5)}\\n')\n",
    "print(f'prediction:\\n{svm.prediction()}')"
   ]
  },
  {
   "cell_type": "code",
   "execution_count": 6,
   "metadata": {},
   "outputs": [
    {
     "name": "stdout",
     "output_type": "stream",
     "text": [
      "SVM report \n",
      "               precision    recall  f1-score   support\n",
      "\n",
      "           0       0.95      1.00      0.97      1379\n",
      "           1       0.98      0.78      0.87      1213\n",
      "           2       0.91      0.97      0.94       784\n",
      "           3       0.87      0.99      0.92       691\n",
      "           4       0.93      0.97      0.95       839\n",
      "\n",
      "   micro avg       0.93      0.93      0.93      4906\n",
      "   macro avg       0.93      0.94      0.93      4906\n",
      "weighted avg       0.94      0.93      0.93      4906\n",
      "\n"
     ]
    }
   ],
   "source": [
    "svm.report()"
   ]
  },
  {
   "cell_type": "markdown",
   "metadata": {},
   "source": [
    "### parameters tuning"
   ]
  },
  {
   "cell_type": "code",
   "execution_count": 7,
   "metadata": {},
   "outputs": [
    {
     "name": "stdout",
     "output_type": "stream",
     "text": [
      "accuracy:\n",
      "0.9331430900937627\n",
      "\n",
      "prediction:\n",
      "['B', 'A', 'B', 'A', 'A', 'E', 'D', 'B', 'A', 'A', 'B', 'C', 'B', 'A', 'E', 'E', 'A', 'B', 'B', 'B']\n"
     ]
    }
   ],
   "source": [
    "svm = SVM(dm, gamma='scale', C=5)\n",
    "svm.train()\n",
    "print(f'accuracy:\\n{svm.accuracy(5)}\\n')\n",
    "print(f'prediction:\\n{svm.prediction()}')"
   ]
  },
  {
   "cell_type": "code",
   "execution_count": 8,
   "metadata": {
    "scrolled": true
   },
   "outputs": [
    {
     "name": "stdout",
     "output_type": "stream",
     "text": [
      "SVM report \n",
      "               precision    recall  f1-score   support\n",
      "\n",
      "           0       0.96      1.00      0.98      1380\n",
      "           1       0.98      0.78      0.87      1212\n",
      "           2       0.91      0.97      0.94       784\n",
      "           3       0.87      0.99      0.92       692\n",
      "           4       0.93      0.97      0.95       838\n",
      "\n",
      "   micro avg       0.93      0.93      0.93      4906\n",
      "   macro avg       0.93      0.94      0.93      4906\n",
      "weighted avg       0.94      0.93      0.93      4906\n",
      "\n"
     ]
    }
   ],
   "source": [
    "svm.report()"
   ]
  },
  {
   "cell_type": "markdown",
   "metadata": {},
   "source": [
    "## Random Forest Classifier"
   ]
  },
  {
   "cell_type": "code",
   "execution_count": 9,
   "metadata": {},
   "outputs": [
    {
     "name": "stdout",
     "output_type": "stream",
     "text": [
      "accuracy:\n",
      "0.9964533224622911\n",
      "\n",
      "prediction:\n",
      "['B', 'A', 'B', 'A', 'A', 'E', 'D', 'B', 'A', 'A', 'B', 'C', 'B', 'A', 'E', 'E', 'A', 'B', 'B', 'B']\n"
     ]
    }
   ],
   "source": [
    "rf = RandomForest(dm)\n",
    "rf.train()\n",
    "print(f'accuracy:\\n{rf.accuracy(5)}\\n')\n",
    "print(f'prediction:\\n{rf.prediction()}')"
   ]
  },
  {
   "cell_type": "code",
   "execution_count": 10,
   "metadata": {},
   "outputs": [
    {
     "name": "stdout",
     "output_type": "stream",
     "text": [
      "Random Forest Classifier report \n",
      "               precision    recall  f1-score   support\n",
      "\n",
      "           0       1.00      1.00      1.00      1440\n",
      "           1       1.00      1.00      1.00       963\n",
      "           2       1.00      0.99      0.99       842\n",
      "           3       0.99      0.99      0.99       785\n",
      "           4       0.99      1.00      1.00       876\n",
      "\n",
      "   micro avg       1.00      1.00      1.00      4906\n",
      "   macro avg       1.00      1.00      1.00      4906\n",
      "weighted avg       1.00      1.00      1.00      4906\n",
      "\n"
     ]
    }
   ],
   "source": [
    "rf.report()"
   ]
  },
  {
   "cell_type": "markdown",
   "metadata": {},
   "source": [
    "### parameters tuning"
   ]
  },
  {
   "cell_type": "code",
   "execution_count": 11,
   "metadata": {},
   "outputs": [
    {
     "name": "stdout",
     "output_type": "stream",
     "text": [
      "accuracy:\n",
      "0.9969017529555646\n",
      "\n",
      "prediction:\n",
      "['B', 'A', 'B', 'A', 'A', 'E', 'D', 'B', 'A', 'A', 'B', 'C', 'B', 'A', 'E', 'E', 'A', 'B', 'B', 'B']\n"
     ]
    }
   ],
   "source": [
    "rf = RandomForest(dm, n_estimators=500, max_depth=200, criterion='entropy', class_weight='balanced')\n",
    "rf.train()\n",
    "print(f'accuracy:\\n{rf.accuracy(5)}\\n')\n",
    "print(f'prediction:\\n{rf.prediction()}')"
   ]
  },
  {
   "cell_type": "code",
   "execution_count": 12,
   "metadata": {},
   "outputs": [
    {
     "name": "stdout",
     "output_type": "stream",
     "text": [
      "Random Forest Classifier report \n",
      "               precision    recall  f1-score   support\n",
      "\n",
      "           0       1.00      1.00      1.00      1438\n",
      "           1       1.00      1.00      1.00       964\n",
      "           2       1.00      0.99      0.99       843\n",
      "           3       0.99      0.99      0.99       784\n",
      "           4       1.00      1.00      1.00       877\n",
      "\n",
      "   micro avg       1.00      1.00      1.00      4906\n",
      "   macro avg       1.00      1.00      1.00      4906\n",
      "weighted avg       1.00      1.00      1.00      4906\n",
      "\n"
     ]
    }
   ],
   "source": [
    "rf.report()"
   ]
  }
 ],
 "metadata": {
  "kernelspec": {
   "display_name": "Python 3",
   "language": "python",
   "name": "python3"
  },
  "language_info": {
   "codemirror_mode": {
    "name": "ipython",
    "version": 3
   },
   "file_extension": ".py",
   "mimetype": "text/x-python",
   "name": "python",
   "nbconvert_exporter": "python",
   "pygments_lexer": "ipython3",
   "version": "3.6.8"
  }
 },
 "nbformat": 4,
 "nbformat_minor": 2
}
