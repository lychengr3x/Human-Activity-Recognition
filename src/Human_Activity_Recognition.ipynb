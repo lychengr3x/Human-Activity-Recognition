{
 "cells": [
  {
   "cell_type": "markdown",
   "metadata": {},
   "source": [
    "# Human Activity Recognition"
   ]
  },
  {
   "cell_type": "code",
   "execution_count": 1,
   "metadata": {},
   "outputs": [],
   "source": [
    "from utils import DataManager, RandomForest, SVM, grid_search"
   ]
  },
  {
   "cell_type": "markdown",
   "metadata": {},
   "source": [
    "## Data Exploration"
   ]
  },
  {
   "cell_type": "code",
   "execution_count": 2,
   "metadata": {},
   "outputs": [],
   "source": [
    "dm = DataManager()\n",
    "xtrain, ytrain, xvalid, yvalid = dm.get_train_and_valid()"
   ]
  },
  {
   "cell_type": "markdown",
   "metadata": {},
   "source": [
    "## Grid Search \n",
    "Find optimal hyper-parameters"
   ]
  },
  {
   "cell_type": "code",
   "execution_count": 3,
   "metadata": {},
   "outputs": [],
   "source": [
    "# grid_search(xtrain, ytrain, 'svm')"
   ]
  },
  {
   "cell_type": "code",
   "execution_count": 4,
   "metadata": {},
   "outputs": [],
   "source": [
    "# grid_search(xtrain, ytrain, 'randomforest')"
   ]
  },
  {
   "cell_type": "markdown",
   "metadata": {},
   "source": [
    "## SVM"
   ]
  },
  {
   "cell_type": "code",
   "execution_count": 5,
   "metadata": {},
   "outputs": [
    {
     "name": "stdout",
     "output_type": "stream",
     "text": [
      "accuracy:\n",
      "0.8642478597635548\n",
      "\n",
      "prediction:\n",
      "['C', 'A', 'B', 'A', 'A', 'E', 'D', 'E', 'A', 'A', 'B', 'C', 'E', 'A', 'E', 'E', 'A', 'B', 'B', 'B']\n"
     ]
    }
   ],
   "source": [
    "svm = SVM(dm)\n",
    "svm.train()\n",
    "print(f'accuracy:\\n{svm.accuracy()}\\n')\n",
    "print(f'prediction:\\n{svm.prediction()}')"
   ]
  },
  {
   "cell_type": "code",
   "execution_count": 6,
   "metadata": {},
   "outputs": [
    {
     "name": "stdout",
     "output_type": "stream",
     "text": [
      "SVM report \n",
      "               precision    recall  f1-score   support\n",
      "\n",
      "           0       0.96      0.92      0.94      1513\n",
      "           1       0.81      0.87      0.84       900\n",
      "           2       0.88      0.73      0.80      1007\n",
      "           3       0.79      0.86      0.83       729\n",
      "           4       0.80      0.94      0.87       757\n",
      "\n",
      "   micro avg       0.86      0.86      0.86      4906\n",
      "   macro avg       0.85      0.86      0.85      4906\n",
      "weighted avg       0.87      0.86      0.86      4906\n",
      "\n"
     ]
    }
   ],
   "source": [
    "svm.report()"
   ]
  },
  {
   "cell_type": "markdown",
   "metadata": {},
   "source": [
    "### parameters tuning"
   ]
  },
  {
   "cell_type": "code",
   "execution_count": 7,
   "metadata": {},
   "outputs": [
    {
     "name": "stdout",
     "output_type": "stream",
     "text": [
      "accuracy:\n",
      "0.9033836119037912\n",
      "\n",
      "prediction:\n",
      "['B', 'A', 'B', 'A', 'A', 'E', 'D', 'B', 'A', 'A', 'B', 'C', 'B', 'A', 'E', 'E', 'A', 'B', 'B', 'B']\n"
     ]
    }
   ],
   "source": [
    "svm = SVM(dm, gamma='scale', C=5)\n",
    "svm.train()\n",
    "print(f'accuracy:\\n{svm.accuracy()}\\n')\n",
    "print(f'prediction:\\n{svm.prediction()}')"
   ]
  },
  {
   "cell_type": "code",
   "execution_count": 8,
   "metadata": {
    "scrolled": true
   },
   "outputs": [
    {
     "name": "stdout",
     "output_type": "stream",
     "text": [
      "SVM report \n",
      "               precision    recall  f1-score   support\n",
      "\n",
      "           0       0.99      0.94      0.96      1520\n",
      "           1       0.86      0.92      0.89       904\n",
      "           2       0.92      0.79      0.85       974\n",
      "           3       0.83      0.91      0.87       714\n",
      "           4       0.86      0.96      0.91       794\n",
      "\n",
      "   micro avg       0.90      0.90      0.90      4906\n",
      "   macro avg       0.89      0.90      0.89      4906\n",
      "weighted avg       0.91      0.90      0.90      4906\n",
      "\n"
     ]
    }
   ],
   "source": [
    "svm.report()"
   ]
  },
  {
   "cell_type": "markdown",
   "metadata": {},
   "source": [
    "## Random Forest Classifier"
   ]
  },
  {
   "cell_type": "code",
   "execution_count": 9,
   "metadata": {},
   "outputs": [
    {
     "name": "stdout",
     "output_type": "stream",
     "text": [
      "accuracy:\n",
      "0.9963310232368529\n",
      "\n",
      "prediction:\n",
      "['B', 'A', 'B', 'A', 'A', 'E', 'D', 'B', 'A', 'A', 'B', 'C', 'B', 'A', 'E', 'E', 'A', 'B', 'B', 'B']\n"
     ]
    }
   ],
   "source": [
    "rf = RandomForest(dm)\n",
    "rf.train()\n",
    "print(f'accuracy:\\n{rf.accuracy()}\\n')\n",
    "print(f'prediction:\\n{rf.prediction()}')"
   ]
  },
  {
   "cell_type": "code",
   "execution_count": 10,
   "metadata": {},
   "outputs": [
    {
     "name": "stdout",
     "output_type": "stream",
     "text": [
      "Random Forest Classifier report \n",
      "               precision    recall  f1-score   support\n",
      "\n",
      "           0       1.00      1.00      1.00      1439\n",
      "           1       1.00      1.00      1.00       966\n",
      "           2       1.00      0.99      0.99       840\n",
      "           3       0.99      0.99      0.99       785\n",
      "           4       0.99      1.00      1.00       876\n",
      "\n",
      "   micro avg       1.00      1.00      1.00      4906\n",
      "   macro avg       1.00      1.00      1.00      4906\n",
      "weighted avg       1.00      1.00      1.00      4906\n",
      "\n"
     ]
    }
   ],
   "source": [
    "rf.report()"
   ]
  },
  {
   "cell_type": "markdown",
   "metadata": {},
   "source": [
    "### parameters tuning"
   ]
  },
  {
   "cell_type": "code",
   "execution_count": 11,
   "metadata": {},
   "outputs": [
    {
     "name": "stdout",
     "output_type": "stream",
     "text": [
      "accuracy:\n",
      "0.9963310232368529\n",
      "\n",
      "prediction:\n",
      "['B', 'A', 'B', 'A', 'A', 'E', 'D', 'B', 'A', 'A', 'B', 'C', 'B', 'A', 'E', 'E', 'A', 'B', 'B', 'B']\n"
     ]
    }
   ],
   "source": [
    "rf = RandomForest(dm, n_estimators=500, max_depth=200, criterion='entropy', class_weight='balanced')\n",
    "rf.train()\n",
    "print(f'accuracy:\\n{rf.accuracy()}\\n')\n",
    "print(f'prediction:\\n{rf.prediction()}')"
   ]
  },
  {
   "cell_type": "code",
   "execution_count": 12,
   "metadata": {},
   "outputs": [
    {
     "name": "stdout",
     "output_type": "stream",
     "text": [
      "Random Forest Classifier report \n",
      "               precision    recall  f1-score   support\n",
      "\n",
      "           0       1.00      1.00      1.00      1438\n",
      "           1       1.00      1.00      1.00       965\n",
      "           2       1.00      0.99      0.99       842\n",
      "           3       0.99      0.99      0.99       786\n",
      "           4       0.99      1.00      1.00       875\n",
      "\n",
      "   micro avg       1.00      1.00      1.00      4906\n",
      "   macro avg       1.00      1.00      1.00      4906\n",
      "weighted avg       1.00      1.00      1.00      4906\n",
      "\n"
     ]
    }
   ],
   "source": [
    "rf.report()"
   ]
  }
 ],
 "metadata": {
  "kernelspec": {
   "display_name": "Python 3",
   "language": "python",
   "name": "python3"
  },
  "language_info": {
   "codemirror_mode": {
    "name": "ipython",
    "version": 3
   },
   "file_extension": ".py",
   "mimetype": "text/x-python",
   "name": "python",
   "nbconvert_exporter": "python",
   "pygments_lexer": "ipython3",
   "version": "3.7.3"
  }
 },
 "nbformat": 4,
 "nbformat_minor": 2
}
